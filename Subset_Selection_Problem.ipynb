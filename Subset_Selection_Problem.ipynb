{
  "nbformat": 4,
  "nbformat_minor": 0,
  "metadata": {
    "colab": {
      "provenance": []
    },
    "kernelspec": {
      "name": "python3",
      "display_name": "Python 3"
    },
    "language_info": {
      "name": "python"
    }
  },
  "cells": [
    {
      "cell_type": "markdown",
      "source": [
        "  ---\n",
        "# **Subset Selection Problem**\n",
        "---\n",
        "1. Problem Statement:\n",
        "Find all the subsets from a set of numbers whose sum is zero.\n",
        "\n",
        "Constraint: Subset size must be 5\n",
        "\n",
        "Set={-12, -3, -6, 7, 2, -2, 6, 3, 9, -7, -5, -8, 1, 11, -9, -4}\n",
        "\n",
        "---"
      ],
      "metadata": {
        "id": "9ERkxo0nOOd3"
      }
    },
    {
      "cell_type": "code",
      "execution_count": null,
      "metadata": {
        "colab": {
          "base_uri": "https://localhost:8080/"
        },
        "id": "aHwlQtZhN-c2",
        "outputId": "54f353f8-5c49-4ef1-90fd-da577c093f17"
      },
      "outputs": [
        {
          "output_type": "stream",
          "name": "stdout",
          "text": [
            "(-12, -6, -2, 9, 11)\n",
            "(-12, -4, 1, 6, 9)\n",
            "(-12, -6, 1, 6, 11)\n",
            "(-9, -8, -3, 9, 11)\n",
            "(-8, -4, -3, 6, 9)\n",
            "(-5, -4, -3, 1, 11)\n",
            "(-7, -4, 2, 3, 6)\n",
            "(-12, -2, 1, 6, 7)\n",
            "(-8, -6, -2, 7, 9)\n",
            "(-9, -5, 2, 3, 9)\n",
            "(-7, -5, -2, 3, 11)\n",
            "(-9, -5, -4, 7, 11)\n",
            "(-7, -2, 1, 2, 6)\n",
            "(-8, -7, 1, 3, 11)\n",
            "(-9, -6, -3, 7, 11)\n",
            "(-4, -3, -2, 3, 6)\n",
            "(-6, -4, -3, 2, 11)\n",
            "(-5, -3, -2, 1, 9)\n",
            "(-8, -6, 1, 2, 11)\n",
            "(-12, -8, 3, 6, 11)\n",
            "(-6, -3, -2, 2, 9)\n",
            "(-12, -9, 3, 7, 11)\n",
            "(-12, -8, 2, 7, 11)\n",
            "(-7, -6, -5, 7, 11)\n",
            "(-7, -6, -4, 6, 11)\n",
            "(-8, -6, 2, 3, 9)\n",
            "\n",
            "Total Sets:  26\n"
          ]
        },
        {
          "output_type": "stream",
          "name": "stderr",
          "text": [
            "<ipython-input-4-952cf3baa490>:10: DeprecationWarning: Sampling from a set deprecated\n",
            "since Python 3.9 and will be removed in a subsequent version.\n",
            "  Chromosome = r.sample(Set,SetSize)\n"
          ]
        }
      ],
      "source": [
        "import random as r\n",
        "\n",
        "Set         = set([-12, -3, -6, 7, 2, -2, 6, 3, 9, -7, -5, -8, 1, 11, -9, -4])\n",
        "SetSize     = 5\n",
        "ResultList  = set()    \n",
        "Iterations  = 1000   \n",
        "\n",
        "for i in range(Iterations):\n",
        "   \n",
        "    Chromosome = r.sample(Set,SetSize)\n",
        "    Chromosome.sort()\n",
        "\n",
        "    \n",
        "    if sum(Chromosome) == 0:\n",
        "        ResultList.add(tuple(Chromosome))\n",
        "\n",
        "\n",
        "for r in ResultList:\n",
        "\tprint (r)\n",
        "\n",
        "print (\"\\nTotal Sets: \", len(ResultList))\n"
      ]
    },
    {
      "cell_type": "markdown",
      "source": [
        "2. Problem Statement:\n",
        "Find all the subsets from a set of numbers whose sum is zero.\n",
        "Constraint: Subset size must be 3 to 6 only\n",
        "Set={-12, -3, -6, 7, 2, -2, 6, 3, 9, -7, -5, -8, 1, 11, -9, -4}"
      ],
      "metadata": {
        "id": "am6ocqtBPCjz"
      }
    },
    {
      "cell_type": "code",
      "metadata": {
        "colab": {
          "base_uri": "https://localhost:8080/"
        },
        "id": "XmPJbrOXim19",
        "outputId": "46f9bdb3-6038-4f1b-96c1-1ff248403720"
      },
      "source": [
        "import random as r\n",
        "\n",
        "Set         = set([-12, -3, -6, 7, 2, -2, 6, 3, 9, -7, -5, -8, 1, 11, -9, -4])\n",
        "SetLB       = 3\n",
        "SetUB       = 6\n",
        "ResultList  = set()   \n",
        "Iterations  = 1000 \n",
        "\n",
        "\n",
        "\n",
        "for i in range(Iterations):\n",
        "    SetSize = r.randint(SetLB,SetUB)\n",
        "    Chromosome = r.sample(Set,SetSize)\n",
        "    Chromosome.sort()\n",
        "    if sum(Chromosome) == 0:\n",
        "        ResultList.add(tuple(Chromosome))\n",
        "\n",
        "\n",
        "for r in ResultList:\n",
        "\tprint (r)\n",
        "\n",
        "\n",
        "print (\"\\nTotal Sets: \", len(ResultList))\n"
      ],
      "execution_count": null,
      "outputs": [
        {
          "output_type": "stream",
          "name": "stdout",
          "text": [
            "(-8, -6, -3, 2, 6, 9)\n",
            "(-8, -7, -5, 2, 7, 11)\n",
            "(-8, -5, -4, 2, 6, 9)\n",
            "(-6, -3, -2, 11)\n",
            "(-12, -6, -4, 6, 7, 9)\n",
            "(-5, -4, 2, 7)\n",
            "(-7, -2, 9)\n",
            "(-7, -6, 6, 7)\n",
            "(-8, 2, 6)\n",
            "(-8, -5, -2, 6, 9)\n",
            "(-7, -4, 11)\n",
            "(-9, -7, 7, 9)\n",
            "(-6, -3, 1, 2, 6)\n",
            "(-9, -2, 11)\n",
            "(-4, -2, 6)\n",
            "(-12, -7, -3, 6, 7, 9)\n",
            "(-5, -2, 7)\n",
            "(-6, -5, 11)\n",
            "(-9, -7, -6, 6, 7, 9)\n",
            "(-7, 1, 6)\n",
            "(-8, -3, 11)\n",
            "(-3, 1, 2)\n",
            "\n",
            "Total Sets:  22\n"
          ]
        },
        {
          "output_type": "stream",
          "name": "stderr",
          "text": [
            "<ipython-input-8-2994c1ffc992>:13: DeprecationWarning: Sampling from a set deprecated\n",
            "since Python 3.9 and will be removed in a subsequent version.\n",
            "  Chromosome = r.sample(Set,SetSize)\n"
          ]
        }
      ]
    }
  ]
}